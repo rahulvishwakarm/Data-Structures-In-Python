{
 "metadata": {
  "language_info": {
   "codemirror_mode": {
    "name": "ipython",
    "version": 3
   },
   "file_extension": ".py",
   "mimetype": "text/x-python",
   "name": "python",
   "nbconvert_exporter": "python",
   "pygments_lexer": "ipython3",
   "version": "3.8.3-final"
  },
  "orig_nbformat": 2,
  "kernelspec": {
   "name": "python3",
   "display_name": "Python 3",
   "language": "python"
  }
 },
 "nbformat": 4,
 "nbformat_minor": 2,
 "cells": [
  {
   "cell_type": "code",
   "execution_count": 1,
   "metadata": {},
   "outputs": [
    {
     "output_type": "stream",
     "name": "stdout",
     "text": [
      "6\n"
     ]
    }
   ],
   "source": [
    "class A:\n",
    "    def __init__(self,a):\n",
    "        self.a=a\n",
    "    def __add__(self,ad):\n",
    "        return self.a+ad.a\n",
    "obj1=A(1)\n",
    "obj2=A(5)\n",
    "print(obj1+obj2)\n"
   ]
  },
  {
   "cell_type": "code",
   "execution_count": 2,
   "metadata": {},
   "outputs": [],
   "source": [
    "#here , '+' operator automatically call the __add__ method"
   ]
  },
  {
   "cell_type": "code",
   "execution_count": 3,
   "metadata": {},
   "outputs": [],
   "source": [
    "# Python Program to perform addition\n",
    "# of two complex numbers using binary\n",
    "# + operator overloading."
   ]
  },
  {
   "cell_type": "code",
   "execution_count": 10,
   "metadata": {},
   "outputs": [
    {
     "output_type": "stream",
     "name": "stdout",
     "text": [
      "19\n"
     ]
    }
   ],
   "source": [
    "class complex:\n",
    "    def __init__(self,a,b):\n",
    "        self.a=a\n",
    "        self.b=b\n",
    "    def __add__(self,other):\n",
    "        return self.a+other.a+self.b+other.b\n",
    "    def __str__(self):\n",
    "        return self.a,self.b\n",
    "ob1=complex(8,1)\n",
    "ob2=complex(7,3)\n",
    "ob3=ob1+ob2\n",
    "print(ob3)"
   ]
  },
  {
   "cell_type": "code",
   "execution_count": 11,
   "metadata": {},
   "outputs": [],
   "source": [
    "#Python program to overload a comparision operator"
   ]
  },
  {
   "cell_type": "code",
   "execution_count": 12,
   "metadata": {},
   "outputs": [
    {
     "output_type": "stream",
     "name": "stdout",
     "text": [
      "obj11 is greater than obj12\n"
     ]
    }
   ],
   "source": [
    "class A:\n",
    "    def __init__(self,a):\n",
    "        self.a=a\n",
    "    def __gt__(self,other):\n",
    "        if(self.a>other.a):\n",
    "            return True\n",
    "        else:\n",
    "            return False\n",
    "obj11=A(6)\n",
    "obj12=A(5)\n",
    "if(obj11>obj12):\n",
    "    print(\"obj11 is greater than obj12\")\n",
    "else:\n",
    "    print(\"obj12 is greater than obj11\")\n"
   ]
  },
  {
   "cell_type": "code",
   "execution_count": 1,
   "metadata": {},
   "outputs": [],
   "source": [
    "#Overloading equality and less than operators"
   ]
  },
  {
   "cell_type": "code",
   "execution_count": 3,
   "metadata": {},
   "outputs": [
    {
     "output_type": "stream",
     "name": "stdout",
     "text": [
      "b is greater than a\na is not equal to b\n"
     ]
    }
   ],
   "source": [
    "class A:\n",
    "    def __init__(self,a):\n",
    "        self.a=a\n",
    "    def __lt__(self,l):\n",
    "        if(self.a<l.a):\n",
    "            return \"a is less than b\"\n",
    "        else:\n",
    "            return \"b is greater than a\"\n",
    "    def __eq__(self,e):\n",
    "        if(self.a==e.a):\n",
    "            return \"a is equal to b\"\n",
    "        else:\n",
    "            return \"a is not equal to b\"\n",
    "ob1=A(4)\n",
    "ob2=A(3)\n",
    "print(ob1<ob2)\n",
    "print(ob1==ob2)"
   ]
  },
  {
   "cell_type": "code",
   "execution_count": 1,
   "metadata": {},
   "outputs": [],
   "source": [
    "#Set()"
   ]
  },
  {
   "cell_type": "code",
   "execution_count": 2,
   "metadata": {},
   "outputs": [
    {
     "output_type": "stream",
     "name": "stdout",
     "text": [
      "\nSet the the use of String set()\n"
     ]
    }
   ],
   "source": [
    "set1=set()\n",
    "print(\"\\nSet the the use of String\",set1)"
   ]
  },
  {
   "cell_type": "code",
   "execution_count": 3,
   "metadata": {},
   "outputs": [
    {
     "output_type": "stream",
     "name": "stdout",
     "text": [
      "\nSet with the string: {'h', 't', 'i', 'n', 'T', 'a', 'r', 's', ' ', 'g'}\n"
     ]
    }
   ],
   "source": [
    "#Creating set with using string\n",
    "Str = \"This is a string\"\n",
    "set1 = set(Str)\n",
    "print(\"\\nSet with the string:\",set1)"
   ]
  },
  {
   "cell_type": "code",
   "execution_count": 4,
   "metadata": {},
   "outputs": [
    {
     "output_type": "stream",
     "name": "stdout",
     "text": [
      "\nSet with the array: {'U', 'R', 'L', 'A', 'H'}\n"
     ]
    }
   ],
   "source": [
    "#Creating set using list\n",
    "arr=[\"R\",\"A\",\"H\",\"U\",\"L\"]\n",
    "set1=set(arr)\n",
    "print(\"\\nSet with the array:\",set1)"
   ]
  },
  {
   "cell_type": "code",
   "execution_count": 6,
   "metadata": {},
   "outputs": [
    {
     "output_type": "stream",
     "name": "stdout",
     "text": [
      "Set with string: {1, 3, 4, 7, 8}\nSet with out String: {'Str1', 'Str3', 'Str2'}\n"
     ]
    }
   ],
   "source": [
    "#Creating set using mixed values\n",
    "value1 = [1,3,7,4,3,7,8]\n",
    "value2 = [\"Str1\",\"Str2\",\"Str3\"]\n",
    "swn = set(value1)\n",
    "sws = set(value2)\n",
    "print(\"Set with string:\",swn)\n",
    "print(\"Set with out String:\",sws)"
   ]
  },
  {
   "cell_type": "code",
   "execution_count": 7,
   "metadata": {},
   "outputs": [
    {
     "output_type": "stream",
     "name": "stdout",
     "text": [
      "Initial blank set: \nset()\nFinal Set: {8, 9, (6, 7)}\n"
     ]
    }
   ],
   "source": [
    "#Adding element in set with add() method\n",
    "set1 = set()\n",
    "print(\"Initial blank set: \")\n",
    "print(set1)\n",
    "\n",
    "set1.add(8)\n",
    "set1.add(9)\n",
    "set1.add((6,7))\n",
    "print(\"Final Set:\",set1)"
   ]
  },
  {
   "cell_type": "code",
   "execution_count": 8,
   "metadata": {},
   "outputs": [
    {
     "output_type": "stream",
     "name": "stdout",
     "text": [
      "{0, 1, 2, 3, 4, 5}\n"
     ]
    }
   ],
   "source": [
    "#Adding element using iteration\n",
    "set1 = set()\n",
    "for i in range(0,6):\n",
    "    set1.add(i)\n",
    "print(set1)"
   ]
  },
  {
   "cell_type": "code",
   "execution_count": 9,
   "metadata": {},
   "outputs": [
    {
     "output_type": "stream",
     "name": "stdout",
     "text": [
      "Set before adding elements: {9, (8, 6), 6, 7}\n\nSet after adding multiple element: {6, 7, 9, 10, 11, (8, 6)}\n"
     ]
    }
   ],
   "source": [
    "#For Adding two or more element update() method is used\n",
    "set1 = set([6,9,7,(8,6)])\n",
    "print(\"Set before adding elements:\",set1)\n",
    "set1.update([10,11])\n",
    "print(\"\\nSet after adding multiple element:\",set1)"
   ]
  },
  {
   "cell_type": "code",
   "execution_count": null,
   "metadata": {},
   "outputs": [],
   "source": []
  }
 ]
}