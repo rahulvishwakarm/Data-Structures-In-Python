{
 "metadata": {
  "language_info": {
   "codemirror_mode": {
    "name": "ipython",
    "version": 3
   },
   "file_extension": ".py",
   "mimetype": "text/x-python",
   "name": "python",
   "nbconvert_exporter": "python",
   "pygments_lexer": "ipython3",
   "version": "3.8.3-final"
  },
  "orig_nbformat": 2,
  "kernelspec": {
   "name": "python3",
   "display_name": "Python 3",
   "language": "python"
  }
 },
 "nbformat": 4,
 "nbformat_minor": 2,
 "cells": [
  {
   "cell_type": "code",
   "execution_count": 1,
   "metadata": {},
   "outputs": [
    {
     "output_type": "stream",
     "name": "stdout",
     "text": [
      "Testing......\n"
     ]
    }
   ],
   "source": [
    "#input()\n",
    "val=input(\"Take input:\")\n",
    "print(val)"
   ]
  },
  {
   "cell_type": "code",
   "execution_count": 3,
   "metadata": {},
   "outputs": [
    {
     "output_type": "stream",
     "name": "stdout",
     "text": [
      "num type: <class 'int'>\nname type: <class 'str'>\n"
     ]
    }
   ],
   "source": [
    "#Input Type\n",
    "num = int(input(\"Enter the number:\"))\n",
    "name = input(\"Enter the name:\")\n",
    "print(\"num type:\",type(num))\n",
    "print(\"name type:\",type(name))\n"
   ]
  },
  {
   "cell_type": "code",
   "execution_count": 5,
   "metadata": {},
   "outputs": [
    {
     "output_type": "error",
     "ename": "NameError",
     "evalue": "name 'raw_input' is not defined",
     "traceback": [
      "\u001b[1;31m---------------------------------------------------------------------------\u001b[0m",
      "\u001b[1;31mNameError\u001b[0m                                 Traceback (most recent call last)",
      "\u001b[1;32m<ipython-input-5-2c09ee5cfbba>\u001b[0m in \u001b[0;36m<module>\u001b[1;34m\u001b[0m\n\u001b[0;32m      1\u001b[0m \u001b[1;31m#raw_input\u001b[0m\u001b[1;33m\u001b[0m\u001b[1;33m\u001b[0m\u001b[1;33m\u001b[0m\u001b[0m\n\u001b[1;32m----> 2\u001b[1;33m \u001b[0mg\u001b[0m \u001b[1;33m=\u001b[0m \u001b[0mraw_input\u001b[0m\u001b[1;33m(\u001b[0m\u001b[1;34m\"Enter your name:\"\u001b[0m\u001b[1;33m)\u001b[0m\u001b[1;33m\u001b[0m\u001b[1;33m\u001b[0m\u001b[0m\n\u001b[0m\u001b[0;32m      3\u001b[0m \u001b[0mprint\u001b[0m\u001b[1;33m(\u001b[0m\u001b[0mg\u001b[0m\u001b[1;33m)\u001b[0m\u001b[1;33m\u001b[0m\u001b[1;33m\u001b[0m\u001b[0m\n\u001b[0;32m      4\u001b[0m \u001b[0mprint\u001b[0m\u001b[1;33m(\u001b[0m\u001b[1;34m\"Supported in 2.0(older) verison of python\"\u001b[0m\u001b[1;33m)\u001b[0m\u001b[1;33m\u001b[0m\u001b[1;33m\u001b[0m\u001b[0m\n",
      "\u001b[1;31mNameError\u001b[0m: name 'raw_input' is not defined"
     ]
    }
   ],
   "source": [
    "#raw_input\n",
    "g = raw_input(\"Enter your name:\")\n",
    "print(g)\n",
    "print(\"Supported in 2.0(older) verison of python\")"
   ]
  },
  {
   "cell_type": "code",
   "execution_count": 6,
   "metadata": {},
   "outputs": [
    {
     "output_type": "stream",
     "name": "stdout",
     "text": [
      "9\n"
     ]
    }
   ],
   "source": [
    "#Type Casting\n",
    "#input to Integer\n",
    "num1 = int(input())\n",
    "num2 = int(input())\n",
    "print(num1+num2)"
   ]
  },
  {
   "cell_type": "code",
   "execution_count": 7,
   "metadata": {},
   "outputs": [
    {
     "output_type": "stream",
     "name": "stdout",
     "text": [
      "11.0\n"
     ]
    }
   ],
   "source": [
    "#input to float\n",
    "num1 = float(input())\n",
    "num2 = float(input())\n",
    "print(num1+num2)"
   ]
  },
  {
   "cell_type": "code",
   "execution_count": 8,
   "metadata": {},
   "outputs": [
    {
     "output_type": "stream",
     "name": "stdout",
     "text": [
      "Testing....\n"
     ]
    }
   ],
   "source": [
    "#input to String\n",
    "num1 = str(input())\n",
    "print(num1)"
   ]
  },
  {
   "cell_type": "code",
   "execution_count": 10,
   "metadata": {},
   "outputs": [],
   "source": [
    "#Taking multiple Input\n",
    "#Syntax - input().split(separator, maxsplit)"
   ]
  },
  {
   "cell_type": "code",
   "execution_count": 14,
   "metadata": {},
   "outputs": [
    {
     "output_type": "stream",
     "name": "stdout",
     "text": [
      "First Valus: 3\nSecond Value: 4\n"
     ]
    }
   ],
   "source": [
    "#2 input at a time\n",
    "x,y = input(\"Enter a two value:\").split()\n",
    "print(\"First Valus:\",x)\n",
    "print(\"Second Value:\",y)"
   ]
  },
  {
   "cell_type": "code",
   "execution_count": 15,
   "metadata": {},
   "outputs": [
    {
     "output_type": "stream",
     "name": "stdout",
     "text": [
      "Three values are :  4 5 7\n"
     ]
    }
   ],
   "source": [
    "#3 input at a time\n",
    "x,y,z = input(\"Enter a three value seprated by space:\").split()\n",
    "print(\"Three values are : \",x,y,z)"
   ]
  },
  {
   "cell_type": "code",
   "execution_count": 18,
   "metadata": {},
   "outputs": [
    {
     "output_type": "stream",
     "name": "stdout",
     "text": [
      "First number is 4 and second number is 5\n"
     ]
    }
   ],
   "source": [
    "#format()\n",
    "inp1,inp2 = input(\"Enter 2 value:\").split()\n",
    "print(\"First number is {} and second number is {}\".format(inp1,inp2))"
   ]
  },
  {
   "cell_type": "code",
   "execution_count": 21,
   "metadata": {},
   "outputs": [
    {
     "output_type": "stream",
     "name": "stdout",
     "text": [
      "First number is 5 and second number is 5 and 4\n"
     ]
    }
   ],
   "source": [
    "#format()\n",
    "inp1,inp2 = input(\"Enter 2 value:\").split()\n",
    "print(\"First number is {} and second number is {} and {}\".format(inp2,inp2,inp1))"
   ]
  },
  {
   "cell_type": "code",
   "execution_count": 23,
   "metadata": {},
   "outputs": [
    {
     "output_type": "stream",
     "name": "stdout",
     "text": [
      "Multiple value in list: [5, 8, 2, 0, 6, 1]\n"
     ]
    }
   ],
   "source": [
    "#Mulitple input at a time in List\n",
    "\n",
    "x = list(map(int,input(\"Enter multiple valus:\").split()))\n",
    "print(\"Multiple value in list:\",x)"
   ]
  },
  {
   "cell_type": "code",
   "execution_count": 2,
   "metadata": {},
   "outputs": [
    {
     "output_type": "stream",
     "name": "stdout",
     "text": [
      "4 5\n"
     ]
    }
   ],
   "source": [
    "#Taking multiple input using List comprehension\n",
    "x,y=[int(x) for x in input(\"Enter two value:\").split()]\n",
    "print(x,y)"
   ]
  },
  {
   "cell_type": "code",
   "execution_count": 3,
   "metadata": {},
   "outputs": [
    {
     "output_type": "stream",
     "name": "stdout",
     "text": [
      "First number: 4\nSecond number: 7\nThird number: 3\n"
     ]
    }
   ],
   "source": [
    "x,y,z=[int(x) for x in input(\"Enter three value:\").split()]\n",
    "print(\"First number:\",x)\n",
    "print(\"Second number:\",y)\n",
    "print(\"Third number:\",z)"
   ]
  },
  {
   "cell_type": "code",
   "execution_count": 4,
   "metadata": {},
   "outputs": [
    {
     "output_type": "stream",
     "name": "stdout",
     "text": [
      "[4, 7, 2, 0, 5, 1]\n"
     ]
    }
   ],
   "source": [
    "x=[int(x) for x in input(\"Enter multiple number:\").split()]\n",
    "print(x)"
   ]
  },
  {
   "cell_type": "code",
   "execution_count": 6,
   "metadata": {},
   "outputs": [
    {
     "output_type": "stream",
     "name": "stdout",
     "text": [
      "[6, 7, 9, 5, 4]\n"
     ]
    }
   ],
   "source": [
    "x=[int(x) for x in input(\"Enter multiple number:\").split(\",\")]\n",
    "print(x)"
   ]
  },
  {
   "cell_type": "code",
   "execution_count": 7,
   "metadata": {},
   "outputs": [],
   "source": [
    "#print() function"
   ]
  },
  {
   "cell_type": "code",
   "execution_count": 8,
   "metadata": {},
   "outputs": [
    {
     "output_type": "stream",
     "name": "stdout",
     "text": [
      "Testing...\n"
     ]
    }
   ],
   "source": [
    "print(\"Testing...\")"
   ]
  },
  {
   "cell_type": "code",
   "execution_count": 9,
   "metadata": {},
   "outputs": [
    {
     "output_type": "stream",
     "name": "stdout",
     "text": [
      "x= [6, 7, 9, 5, 4]\n"
     ]
    }
   ],
   "source": [
    "print(\"x=\",x)"
   ]
  },
  {
   "cell_type": "code",
   "execution_count": 10,
   "metadata": {},
   "outputs": [
    {
     "output_type": "stream",
     "name": "stdout",
     "text": [
      "GFG\n"
     ]
    }
   ],
   "source": [
    "print('G','F','G',sep='')"
   ]
  },
  {
   "cell_type": "code",
   "execution_count": 13,
   "metadata": {},
   "outputs": [
    {
     "output_type": "stream",
     "name": "stdout",
     "text": [
      "NtestFtestV\nN\n"
     ]
    }
   ],
   "source": [
    "print('N','F','V',sep=\"test\")\n",
    "print('N',sep=\"test\")"
   ]
  },
  {
   "cell_type": "code",
   "execution_count": 14,
   "metadata": {},
   "outputs": [
    {
     "output_type": "stream",
     "name": "stdout",
     "text": [
      "Testing...Code"
     ]
    }
   ],
   "source": [
    "print('Testing...',end=\"Code\")"
   ]
  },
  {
   "cell_type": "code",
   "execution_count": 22,
   "metadata": {},
   "outputs": [
    {
     "output_type": "stream",
     "name": "stdout",
     "text": [
      "1\t4\t3\t6\t9\t"
     ]
    }
   ],
   "source": [
    "#printing element in same line\n",
    "a=[1,4,3,6,9]\n",
    "for i in range(len(a)):\n",
    "    print(a[i],end=\"\\t\")"
   ]
  },
  {
   "cell_type": "code",
   "execution_count": 23,
   "metadata": {},
   "outputs": [],
   "source": [
    "#Output Formating\n"
   ]
  },
  {
   "cell_type": "code",
   "execution_count": 24,
   "metadata": {},
   "outputs": [
    {
     "output_type": "stream",
     "name": "stdout",
     "text": [
      "Test1:1\n"
     ]
    }
   ],
   "source": [
    "print(\"Test1:%d\"%(1))"
   ]
  },
  {
   "cell_type": "code",
   "execution_count": 30,
   "metadata": {},
   "outputs": [
    {
     "output_type": "stream",
     "name": "stdout",
     "text": [
      "Testing:  4\n"
     ]
    }
   ],
   "source": [
    "print(\"Testing:%3d\"%(4))"
   ]
  },
  {
   "cell_type": "code",
   "execution_count": 31,
   "metadata": {},
   "outputs": [],
   "source": [
    "# format a output using\n",
    "# string() method"
   ]
  },
  {
   "cell_type": "code",
   "execution_count": 3,
   "metadata": {},
   "outputs": [
    {
     "output_type": "stream",
     "name": "stdout",
     "text": [
      "############I live in Mumbai############\n#######I live in Mumbai#######\n"
     ]
    }
   ],
   "source": [
    "st_r=\"I live in Mumbai\"\n",
    "print(st_r.center(40,'#'))\n",
    "print(st_r.center(30,'#'))"
   ]
  },
  {
   "cell_type": "code",
   "execution_count": 4,
   "metadata": {},
   "outputs": [
    {
     "output_type": "stream",
     "name": "stdout",
     "text": [
      "I live in Mumbai------------------------\n"
     ]
    }
   ],
   "source": [
    "st_r=\"I live in Mumbai\"\n",
    "print(st_r.ljust(40,'-'))"
   ]
  },
  {
   "cell_type": "code",
   "execution_count": 5,
   "metadata": {},
   "outputs": [
    {
     "output_type": "stream",
     "name": "stdout",
     "text": [
      "------------------------I live in Mumbai\n"
     ]
    }
   ],
   "source": [
    "st_r=\"I live in Mumbai\"\n",
    "print(st_r.rjust(40,'-'))"
   ]
  },
  {
   "cell_type": "code",
   "execution_count": null,
   "metadata": {},
   "outputs": [],
   "source": []
  }
 ]
}