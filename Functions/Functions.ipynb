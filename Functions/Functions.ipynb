{
 "metadata": {
  "language_info": {
   "codemirror_mode": {
    "name": "ipython",
    "version": 3
   },
   "file_extension": ".py",
   "mimetype": "text/x-python",
   "name": "python",
   "nbconvert_exporter": "python",
   "pygments_lexer": "ipython3",
   "version": "3.8.3-final"
  },
  "orig_nbformat": 2,
  "kernelspec": {
   "name": "python3",
   "display_name": "Python 3",
   "language": "python"
  }
 },
 "nbformat": 4,
 "nbformat_minor": 2,
 "cells": [
  {
   "cell_type": "code",
   "execution_count": 1,
   "metadata": {},
   "outputs": [
    {
     "output_type": "stream",
     "name": "stdout",
     "text": [
      "5 is odd number\n"
     ]
    }
   ],
   "source": [
    "#Odd even using function\n",
    "def evenodd(x):\n",
    "    if(x%2==0):\n",
    "        print(x,\"is even number\")\n",
    "    else:\n",
    "        print(x,\"is odd number\")\n",
    "evenodd(5)"
   ]
  },
  {
   "cell_type": "code",
   "execution_count": 2,
   "metadata": {},
   "outputs": [],
   "source": [
    "#Pass By Reference and Pass by value\n",
    "#Pass By Reference - When we create a variable a reference is passed\n",
    "#When is create a new varible in function a reference is bases to an object"
   ]
  },
  {
   "cell_type": "code",
   "execution_count": 3,
   "metadata": {},
   "outputs": [
    {
     "output_type": "stream",
     "name": "stdout",
     "text": [
      "[12, 4, 3, 7, 9, 0]\n"
     ]
    }
   ],
   "source": [
    "def pByRef(x):\n",
    "    x[0]=12\n",
    "lst = [6,4,3,7,9,0]\n",
    "pByRef(lst)\n",
    "print(lst)"
   ]
  },
  {
   "cell_type": "code",
   "execution_count": 4,
   "metadata": {},
   "outputs": [
    {
     "output_type": "stream",
     "name": "stdout",
     "text": [
      "6\n"
     ]
    }
   ],
   "source": [
    "#When we pass a reference and the change the received reference , the connection between the passed and received parameter get broken \n",
    "#Eg\n",
    "\n",
    "def linkBroken(x):\n",
    "    x=5\n",
    "x=6\n",
    "linkBroken(x)\n",
    "print(x)"
   ]
  },
  {
   "cell_type": "code",
   "execution_count": 5,
   "metadata": {},
   "outputs": [
    {
     "output_type": "stream",
     "name": "stdout",
     "text": [
      "Before Swap (4, 5)\nAfter Swap: (4, 5)\n"
     ]
    }
   ],
   "source": [
    "#swap\n",
    "def swap(x,y):\n",
    "    temp=x\n",
    "    x=y\n",
    "    y=temp\n",
    "x=4\n",
    "y=5\n",
    "print(\"Before Swap\",(x,y))\n",
    "swap(x,y)\n",
    "print(\"After Swap:\",(x,y))"
   ]
  },
  {
   "cell_type": "code",
   "execution_count": 6,
   "metadata": {},
   "outputs": [],
   "source": [
    "#Here swaping does not occured because connection between the passed and assigned parameter get broken"
   ]
  },
  {
   "cell_type": "code",
   "execution_count": 7,
   "metadata": {},
   "outputs": [
    {
     "output_type": "stream",
     "name": "stdout",
     "text": [
      "10 10\n"
     ]
    }
   ],
   "source": [
    "#Default Argumnet - is the default value assignment ot the parameter passed in the functions\n",
    "def defaultArgument(x,y=10):\n",
    "    print(x,y)\n",
    "defaultArgument(10)"
   ]
  },
  {
   "cell_type": "code",
   "execution_count": 8,
   "metadata": {},
   "outputs": [
    {
     "output_type": "stream",
     "name": "stdout",
     "text": [
      "10 6\n"
     ]
    }
   ],
   "source": [
    "defaultArgument(10,6)"
   ]
  },
  {
   "cell_type": "code",
   "execution_count": 9,
   "metadata": {},
   "outputs": [
    {
     "output_type": "stream",
     "name": "stdout",
     "text": [
      "Rahul Vishwakarma\n"
     ]
    }
   ],
   "source": [
    "#keyword argument - This allows the user to pass the variable with the value so that the non of argument get skipped while assignning value\n",
    "def keywordArgument(firstname,lastname):\n",
    "    print(firstname,lastname)\n",
    "keywordArgument(firstname=\"Rahul\",lastname=\"Vishwakarma\")\n"
   ]
  },
  {
   "cell_type": "code",
   "execution_count": 10,
   "metadata": {},
   "outputs": [],
   "source": [
    "#Variable length Argument - This allow us to pass the more number of arguments, it is defined by using the \"argv\" keyword with * which allow to take more number of variable "
   ]
  },
  {
   "cell_type": "code",
   "execution_count": 11,
   "metadata": {},
   "outputs": [
    {
     "output_type": "stream",
     "name": "stdout",
     "text": [
      "Rahul\nVishwakarma\nis\nTesting\n"
     ]
    }
   ],
   "source": [
    "def variableLengthArgument(*argv):\n",
    "    for i in argv:\n",
    "        print(i)\n",
    "variableLengthArgument(\"Rahul\",\"Vishwakarma\",\"is\",\"Testing\")\n",
    "\n"
   ]
  },
  {
   "cell_type": "code",
   "execution_count": 12,
   "metadata": {},
   "outputs": [
    {
     "output_type": "stream",
     "name": "stdout",
     "text": [
      "firstname == Rahul\nlastname == Vishwakarma\n"
     ]
    }
   ],
   "source": [
    "#Python program to illustrate use of **kwargs\n",
    "def keyWargs(**kwargs):\n",
    "    for i,j in kwargs.items():\n",
    "        print(i,\"==\",j)\n",
    "keyWargs(firstname=\"Rahul\",lastname=\"Vishwakarma\")\n"
   ]
  },
  {
   "cell_type": "code",
   "execution_count": 13,
   "metadata": {},
   "outputs": [
    {
     "output_type": "stream",
     "name": "stdout",
     "text": [
      "64\n"
     ]
    }
   ],
   "source": [
    "#Anonymous Function\n",
    "cube=lambda x:x*x*x\n",
    "print(cube(4))"
   ]
  },
  {
   "cell_type": "code",
   "execution_count": 14,
   "metadata": {},
   "outputs": [
    {
     "output_type": "stream",
     "name": "stdout",
     "text": [
      "20\n"
     ]
    }
   ],
   "source": [
    "test=lambda x,y:x*y\n",
    "print(test(5,4))"
   ]
  },
  {
   "cell_type": "code",
   "execution_count": 15,
   "metadata": {},
   "outputs": [],
   "source": [
    "#Keyword and nonkeyword argument\n",
    "# Non-keyword(*args) argument\n",
    "# Keyword(**args) argument"
   ]
  },
  {
   "cell_type": "code",
   "execution_count": 17,
   "metadata": {},
   "outputs": [],
   "source": [
    "#Generators"
   ]
  },
  {
   "cell_type": "code",
   "execution_count": 18,
   "metadata": {},
   "outputs": [],
   "source": [
    "#Generator functions is defined with the \"yield\" keyword"
   ]
  },
  {
   "cell_type": "code",
   "execution_count": 19,
   "metadata": {},
   "outputs": [
    {
     "output_type": "stream",
     "name": "stdout",
     "text": [
      "1\n2\n3\n"
     ]
    }
   ],
   "source": [
    "def simpleGeneratorFunction():\n",
    "    yield 1\n",
    "    yield 2\n",
    "    yield 3\n",
    "for value in simpleGeneratorFunction():\n",
    "    print(value)"
   ]
  },
  {
   "cell_type": "code",
   "execution_count": 22,
   "metadata": {},
   "outputs": [
    {
     "output_type": "stream",
     "name": "stdout",
     "text": [
      "1\n7\n"
     ]
    }
   ],
   "source": [
    "def testcases():\n",
    "    yield 1\n",
    "    x=4\n",
    "    yield 1*7\n",
    "for i in testcases():\n",
    "    print(i)"
   ]
  },
  {
   "cell_type": "code",
   "execution_count": 23,
   "metadata": {},
   "outputs": [],
   "source": [
    "#Generator Object"
   ]
  },
  {
   "cell_type": "code",
   "execution_count": 1,
   "metadata": {},
   "outputs": [
    {
     "output_type": "stream",
     "name": "stdout",
     "text": [
      "1\n2\n3\n"
     ]
    }
   ],
   "source": [
    "def simpleGeneratorFunction():\n",
    "    yield 1\n",
    "    yield 2\n",
    "    yield 3\n",
    "for val in simpleGeneratorFunction():\n",
    "    print(val)"
   ]
  },
  {
   "cell_type": "code",
   "execution_count": 3,
   "metadata": {},
   "outputs": [
    {
     "output_type": "stream",
     "name": "stdout",
     "text": [
      "6\n18\n"
     ]
    }
   ],
   "source": [
    "def testcases():\n",
    "    yield 2*3\n",
    "    t=6\n",
    "    yield 8+8+2\n",
    "for test in testcases():\n",
    "    print(test)"
   ]
  },
  {
   "cell_type": "code",
   "execution_count": 5,
   "metadata": {},
   "outputs": [
    {
     "output_type": "stream",
     "name": "stdout",
     "text": [
      "1\n"
     ]
    }
   ],
   "source": [
    "#Generator Object\n",
    "def generatorObject():\n",
    "    yield 1\n",
    "    yield 2\n",
    "x=generatorObject()\n",
    "print(x.__next__())"
   ]
  },
  {
   "source": [
    "def generatorObject():\n",
    "    yield 1\n",
    "    yield 2\n",
    "x=generatorObject()\n",
    "print(x.__next__())\n",
    "print(x.__next__())"
   ],
   "cell_type": "code",
   "metadata": {},
   "execution_count": 6,
   "outputs": [
    {
     "output_type": "stream",
     "name": "stdout",
     "text": [
      "1\n2\n"
     ]
    }
   ]
  },
  {
   "cell_type": "code",
   "execution_count": 7,
   "metadata": {},
   "outputs": [],
   "source": [
    "# __next__() is used to iterate in the function"
   ]
  },
  {
   "cell_type": "code",
   "execution_count": 8,
   "metadata": {},
   "outputs": [],
   "source": [
    "#Global and Local variable"
   ]
  },
  {
   "cell_type": "code",
   "execution_count": 9,
   "metadata": {},
   "outputs": [
    {
     "output_type": "stream",
     "name": "stdout",
     "text": [
      "GLobal s\n"
     ]
    }
   ],
   "source": [
    "def f():\n",
    "    print(s)\n",
    "s=\"GLobal s\"\n",
    "f()"
   ]
  },
  {
   "cell_type": "code",
   "execution_count": 10,
   "metadata": {},
   "outputs": [
    {
     "output_type": "stream",
     "name": "stdout",
     "text": [
      "local s\nGlobal s\n"
     ]
    }
   ],
   "source": [
    "def f():\n",
    "    s=\"local s\"\n",
    "    print(s)\n",
    "s=\"Global s\"\n",
    "f()\n",
    "print(s)"
   ]
  },
  {
   "cell_type": "code",
   "execution_count": 11,
   "metadata": {},
   "outputs": [
    {
     "output_type": "error",
     "ename": "UnboundLocalError",
     "evalue": "local variable 's' referenced before assignment",
     "traceback": [
      "\u001b[1;31m---------------------------------------------------------------------------\u001b[0m",
      "\u001b[1;31mUnboundLocalError\u001b[0m                         Traceback (most recent call last)",
      "\u001b[1;32m<ipython-input-11-c628ea566788>\u001b[0m in \u001b[0;36m<module>\u001b[1;34m\u001b[0m\n\u001b[0;32m      4\u001b[0m     \u001b[0mprint\u001b[0m\u001b[1;33m(\u001b[0m\u001b[0ms\u001b[0m\u001b[1;33m)\u001b[0m\u001b[1;33m\u001b[0m\u001b[1;33m\u001b[0m\u001b[0m\n\u001b[0;32m      5\u001b[0m \u001b[0ms\u001b[0m\u001b[1;33m=\u001b[0m\u001b[1;34m\"Global s\"\u001b[0m\u001b[1;33m\u001b[0m\u001b[1;33m\u001b[0m\u001b[0m\n\u001b[1;32m----> 6\u001b[1;33m \u001b[0mf\u001b[0m\u001b[1;33m(\u001b[0m\u001b[1;33m)\u001b[0m\u001b[1;33m\u001b[0m\u001b[1;33m\u001b[0m\u001b[0m\n\u001b[0m\u001b[0;32m      7\u001b[0m \u001b[0mprint\u001b[0m\u001b[1;33m(\u001b[0m\u001b[0ms\u001b[0m\u001b[1;33m)\u001b[0m\u001b[1;33m\u001b[0m\u001b[1;33m\u001b[0m\u001b[0m\n",
      "\u001b[1;32m<ipython-input-11-c628ea566788>\u001b[0m in \u001b[0;36mf\u001b[1;34m()\u001b[0m\n\u001b[0;32m      1\u001b[0m \u001b[1;32mdef\u001b[0m \u001b[0mf\u001b[0m\u001b[1;33m(\u001b[0m\u001b[1;33m)\u001b[0m\u001b[1;33m:\u001b[0m\u001b[1;33m\u001b[0m\u001b[1;33m\u001b[0m\u001b[0m\n\u001b[1;32m----> 2\u001b[1;33m     \u001b[0mprint\u001b[0m\u001b[1;33m(\u001b[0m\u001b[0ms\u001b[0m\u001b[1;33m)\u001b[0m\u001b[1;33m\u001b[0m\u001b[1;33m\u001b[0m\u001b[0m\n\u001b[0m\u001b[0;32m      3\u001b[0m     \u001b[0ms\u001b[0m\u001b[1;33m=\u001b[0m\u001b[1;34m\"Local s\"\u001b[0m\u001b[1;33m\u001b[0m\u001b[1;33m\u001b[0m\u001b[0m\n\u001b[0;32m      4\u001b[0m     \u001b[0mprint\u001b[0m\u001b[1;33m(\u001b[0m\u001b[0ms\u001b[0m\u001b[1;33m)\u001b[0m\u001b[1;33m\u001b[0m\u001b[1;33m\u001b[0m\u001b[0m\n\u001b[0;32m      5\u001b[0m \u001b[0ms\u001b[0m\u001b[1;33m=\u001b[0m\u001b[1;34m\"Global s\"\u001b[0m\u001b[1;33m\u001b[0m\u001b[1;33m\u001b[0m\u001b[0m\n",
      "\u001b[1;31mUnboundLocalError\u001b[0m: local variable 's' referenced before assignment"
     ]
    }
   ],
   "source": [
    "def f():\n",
    "    print(s)\n",
    "    s=\"Local s\"\n",
    "    print(s)\n",
    "s=\"Global s\"\n",
    "f()\n",
    "print(s)"
   ]
  },
  {
   "cell_type": "code",
   "execution_count": 12,
   "metadata": {},
   "outputs": [
    {
     "output_type": "stream",
     "name": "stdout",
     "text": [
      "Global s\nLocal s\nLocal s\n"
     ]
    }
   ],
   "source": [
    "#Solution is to define in function using global keyword\n",
    "def f():\n",
    "    global s\n",
    "    print(s)\n",
    "    s=\"Local s\"\n",
    "    print(s)\n",
    "s=\"Global s\"\n",
    "f()\n",
    "print(s)"
   ]
  },
  {
   "cell_type": "code",
   "execution_count": 1,
   "metadata": {},
   "outputs": [
    {
     "output_type": "execute_result",
     "data": {
      "text/plain": [
       "'HELLO RAHUL'"
      ]
     },
     "metadata": {},
     "execution_count": 1
    }
   ],
   "source": [
    "#Functions are Object - We can assign a new varible to a function name\n",
    "def funAsObject(text):\n",
    "    return text.upper()\n",
    "funAsObject(\"Hello Rahul\")\n"
   ]
  },
  {
   "cell_type": "code",
   "execution_count": 2,
   "metadata": {},
   "outputs": [
    {
     "output_type": "stream",
     "name": "stdout",
     "text": [
      "NEW HELLO RAHUL\n"
     ]
    }
   ],
   "source": [
    "def funAsObject(text):\n",
    "    return text.upper()\n",
    "funAsObject(\"Hello Rahul\")\n",
    "newfunAsObject=funAsObject\n",
    "print(newfunAsObject(\"New Hello Rahul\"))"
   ]
  },
  {
   "cell_type": "code",
   "execution_count": 3,
   "metadata": {},
   "outputs": [],
   "source": [
    "#Function can be passed as argument fot another function"
   ]
  },
  {
   "cell_type": "code",
   "execution_count": 5,
   "metadata": {},
   "outputs": [
    {
     "output_type": "stream",
     "name": "stdout",
     "text": [
      "HIGHER ORDER FUNCTION\nhigher order function\n"
     ]
    }
   ],
   "source": [
    "def shout(text):\n",
    "    return text.upper()\n",
    "def whisper(text):\n",
    "    return text.lower()\n",
    "def greet(func):\n",
    "    greeting = func(\"Higher Order Function\")\n",
    "    print(greeting)\n",
    "greet(shout)\n",
    "greet(whisper)"
   ]
  },
  {
   "cell_type": "code",
   "execution_count": 6,
   "metadata": {},
   "outputs": [],
   "source": [
    "#Function can return another function"
   ]
  },
  {
   "cell_type": "code",
   "execution_count": 7,
   "metadata": {},
   "outputs": [],
   "source": [
    "#Because function are treated as object we can return one function from another function\n",
    "#here returnFunction() will return rtn() function"
   ]
  },
  {
   "cell_type": "code",
   "execution_count": 9,
   "metadata": {},
   "outputs": [
    {
     "output_type": "stream",
     "name": "stdout",
     "text": [
      "13\n"
     ]
    }
   ],
   "source": [
    "def returnFuction(x):\n",
    "    def rtn(y):\n",
    "        return x+y\n",
    "    return rtn\n",
    "rtn_object=returnFuction(10)\n",
    "print(rtn_object(3))"
   ]
  },
  {
   "cell_type": "code",
   "execution_count": 10,
   "metadata": {},
   "outputs": [],
   "source": [
    "#Program to illustrate the nested functions"
   ]
  },
  {
   "cell_type": "code",
   "execution_count": 13,
   "metadata": {},
   "outputs": [
    {
     "output_type": "stream",
     "name": "stdout",
     "text": [
      "Hey\n"
     ]
    }
   ],
   "source": [
    "def outerFunction(text):\n",
    "    text=text\n",
    "    def innerFunction(text):\n",
    "        print(text)\n",
    "    innerFunction(\"Hey\")\n",
    "if __name__=='__main__':\n",
    "   outerFunction(\"Hello\")"
   ]
  },
  {
   "cell_type": "code",
   "execution_count": null,
   "metadata": {},
   "outputs": [],
   "source": []
  }
 ]
}