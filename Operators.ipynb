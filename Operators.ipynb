{
 "metadata": {
  "language_info": {
   "codemirror_mode": {
    "name": "ipython",
    "version": 3
   },
   "file_extension": ".py",
   "mimetype": "text/x-python",
   "name": "python",
   "nbconvert_exporter": "python",
   "pygments_lexer": "ipython3",
   "version": "3.8.3-final"
  },
  "orig_nbformat": 2,
  "kernelspec": {
   "name": "python3",
   "display_name": "Python 3",
   "language": "python"
  }
 },
 "nbformat": 4,
 "nbformat_minor": 2,
 "cells": [
  {
   "cell_type": "code",
   "execution_count": 2,
   "metadata": {},
   "outputs": [],
   "source": [
    "#Aritmetic Operators"
   ]
  },
  {
   "cell_type": "code",
   "execution_count": 3,
   "metadata": {},
   "outputs": [
    {
     "output_type": "stream",
     "name": "stdout",
     "text": [
      "addition: 10\nsubtraction: -2\ndivision: 0.6666666666666666\nmultiplication: 24\nfloardivision: 0\nmoddivision: 4\nraiseto: 4096\n"
     ]
    }
   ],
   "source": [
    "num1 = 4\n",
    "num2 = 6\n",
    "add = num1+num2\n",
    "sub = num1-num2\n",
    "div = num1/num2\n",
    "mul = num1*num2\n",
    "flrdiv = num1//num2\n",
    "mod = num1%num2\n",
    "raiseto = num1**num2\n",
    "print(\"addition:\",add)\n",
    "print(\"subtraction:\",sub)\n",
    "print(\"division:\",div)\n",
    "print(\"multiplication:\",mul)\n",
    "print(\"floardivision:\",flrdiv)\n",
    "print(\"moddivision:\",mod)\n",
    "print(\"raiseto:\",raiseto)"
   ]
  },
  {
   "cell_type": "code",
   "execution_count": 4,
   "metadata": {},
   "outputs": [],
   "source": [
    "#Relational Operator"
   ]
  },
  {
   "cell_type": "code",
   "execution_count": 5,
   "metadata": {},
   "outputs": [
    {
     "output_type": "stream",
     "name": "stdout",
     "text": [
      "False\nTrue\nFalse\nTrue\nFalse\nTrue\n"
     ]
    }
   ],
   "source": [
    "a=8\n",
    "b=4\n",
    "print(a<b)\n",
    "print(a>b)\n",
    "print(a==b)\n",
    "print(a!=b)\n",
    "print(a<=b)\n",
    "print(a>=b)"
   ]
  },
  {
   "cell_type": "code",
   "execution_count": 6,
   "metadata": {},
   "outputs": [],
   "source": [
    "#Logical Operator"
   ]
  },
  {
   "cell_type": "code",
   "execution_count": 7,
   "metadata": {},
   "outputs": [
    {
     "output_type": "stream",
     "name": "stdout",
     "text": [
      "False\nTrue\nFalse\n"
     ]
    }
   ],
   "source": [
    "a=True\n",
    "b=False\n",
    "print(a and b)\n",
    "print(a or b)\n",
    "print(not a)"
   ]
  },
  {
   "cell_type": "code",
   "execution_count": 8,
   "metadata": {},
   "outputs": [],
   "source": [
    "#Bitwise Operator"
   ]
  },
  {
   "cell_type": "code",
   "execution_count": 1,
   "metadata": {},
   "outputs": [
    {
     "output_type": "stream",
     "name": "stdout",
     "text": [
      "False\nTrue\n-2\nTrue\n8\n1\n"
     ]
    }
   ],
   "source": [
    "bit1=True\n",
    "bit2=False\n",
    "\n",
    "#Bitwise AND\n",
    "print(bit1 & bit2)\n",
    "#Bitwise OR\n",
    "print(bit1 | bit2)\n",
    "#Bitwise NOT\n",
    "print(~ bit1)\n",
    "#Bitwise XOR\n",
    "print(bit1^bit2)\n",
    "#Bitwise leftshift\n",
    "sh=2\n",
    "print(sh<<2)\n",
    "print(sh>>1)"
   ]
  },
  {
   "source": [
    "#Assignment Operator"
   ],
   "cell_type": "code",
   "metadata": {},
   "execution_count": 1,
   "outputs": []
  },
  {
   "cell_type": "code",
   "execution_count": 3,
   "metadata": {},
   "outputs": [
    {
     "output_type": "stream",
     "name": "stdout",
     "text": [
      "2\n0.2\n-75.0\n"
     ]
    }
   ],
   "source": [
    "ass1=2\n",
    "ass2=3\n",
    "t1=ass1\n",
    "ass2+=ass1\n",
    "ass1-=ass2\n",
    "ass2*=ass1\n",
    "ass1/=ass2\n",
    "ass2//=ass1\n",
    "print(t1)\n",
    "print(ass1)\n",
    "print(ass2)"
   ]
  },
  {
   "cell_type": "code",
   "execution_count": 4,
   "metadata": {},
   "outputs": [],
   "source": [
    "#Special Operator->Identity and MemberShip Operator\n",
    "#Identity Opertaors are \"is\" and \"not is\"\n",
    "#Membership Operator are \"in\" and \"not in\""
   ]
  },
  {
   "cell_type": "code",
   "execution_count": 12,
   "metadata": {},
   "outputs": [
    {
     "output_type": "stream",
     "name": "stdout",
     "text": [
      "True\nFalse\n"
     ]
    }
   ],
   "source": [
    "#Identity Operators\n",
    "a1=\"test\"\n",
    "a2=\"test\"\n",
    "print(a1 is a2)\n",
    "print(a1 is not a2)"
   ]
  },
  {
   "cell_type": "code",
   "execution_count": 13,
   "metadata": {},
   "outputs": [
    {
     "output_type": "stream",
     "name": "stdout",
     "text": [
      "True\nFalse\n"
     ]
    }
   ],
   "source": [
    "#Membership Operator\n",
    "a1=\"Testing...\"\n",
    "a2=\"Testing...\"\n",
    "print(a1 in a2)\n",
    "print(a1 not in a2)"
   ]
  },
  {
   "cell_type": "code",
   "execution_count": 14,
   "metadata": {},
   "outputs": [],
   "source": [
    "#Opeartor Precedence\n"
   ]
  },
  {
   "cell_type": "code",
   "execution_count": 18,
   "metadata": {},
   "outputs": [
    {
     "output_type": "stream",
     "name": "stdout",
     "text": [
      "14\n8.0\n"
     ]
    }
   ],
   "source": [
    "#Precedence of '+' and '*'\n",
    "exp1=2+4*3\n",
    "#Precedence of '-' and '/'\n",
    "exp2=9-8/8\n",
    "print(exp1)\n",
    "print(exp2)"
   ]
  },
  {
   "cell_type": "code",
   "execution_count": 19,
   "metadata": {},
   "outputs": [
    {
     "output_type": "stream",
     "name": "stdout",
     "text": [
      "1.5\n"
     ]
    }
   ],
   "source": [
    "#Precedence of '*' and '/'\n",
    "exp3=2*3/4\n",
    "print(exp3)"
   ]
  },
  {
   "cell_type": "code",
   "execution_count": 22,
   "metadata": {},
   "outputs": [
    {
     "output_type": "stream",
     "name": "stdout",
     "text": [
      "5\n"
     ]
    }
   ],
   "source": [
    "#Precednece of '+' and '-'\n",
    "exp4=2+9-6\n",
    "print(exp4)\n"
   ]
  },
  {
   "cell_type": "code",
   "execution_count": 27,
   "metadata": {},
   "outputs": [
    {
     "output_type": "stream",
     "name": "stdout",
     "text": [
      "Testing...Fail\n"
     ]
    }
   ],
   "source": [
    "#Precedence in 'or' and 'and'\n",
    "name = \"test\"\n",
    "rollno=123\n",
    "if name==\"test123\" or name==\"test122\" and rollno==123:\n",
    "    print(\"Testing...Pass\")\n",
    "else:\n",
    "    print(\"Testing...Fail\")"
   ]
  },
  {
   "cell_type": "code",
   "execution_count": 28,
   "metadata": {},
   "outputs": [],
   "source": [
    "#Operator Associativity-> If there are two or more than two Opertor with same precedence in an expression then termenology associativity                              come, in this we traverse form either left to right or from right to left."
   ]
  },
  {
   "cell_type": "code",
   "execution_count": 29,
   "metadata": {},
   "outputs": [],
   "source": [
    "#Ternary Operator"
   ]
  },
  {
   "cell_type": "code",
   "execution_count": 30,
   "metadata": {},
   "outputs": [],
   "source": [
    "#Syntax of Ternary Operator\n",
    "#[true_condition] if [expression] else [false_condition]\n"
   ]
  },
  {
   "cell_type": "code",
   "execution_count": 31,
   "metadata": {},
   "outputs": [],
   "source": [
    "#Simple Method to use ternary operator"
   ]
  },
  {
   "cell_type": "code",
   "execution_count": 32,
   "metadata": {},
   "outputs": [
    {
     "output_type": "stream",
     "name": "stdout",
     "text": [
      "a is smaller than b\n"
     ]
    }
   ],
   "source": [
    "a,b=10,20\n",
    "print(\"a is greater than b\") if(a>b) else print(\"a is smaller than b\")"
   ]
  },
  {
   "cell_type": "code",
   "execution_count": 33,
   "metadata": {},
   "outputs": [
    {
     "output_type": "stream",
     "name": "stdout",
     "text": [
      "2\n"
     ]
    }
   ],
   "source": [
    "#Using tuple for selecting and item\n",
    "#Syntax\n",
    "#(if_statment_false,if_statment_true)[statment]\n",
    "a,b=6,2\n",
    "print((b,a)[a<b])\n"
   ]
  },
  {
   "cell_type": "code",
   "execution_count": 34,
   "metadata": {},
   "outputs": [
    {
     "output_type": "stream",
     "name": "stdout",
     "text": [
      "It is True statement\n"
     ]
    }
   ],
   "source": [
    "stmt1=\"It is false statement\"\n",
    "stmt2=\"It is True statement\"\n",
    "print((stmt2,stmt1)[stmt1<stmt2])"
   ]
  },
  {
   "cell_type": "code",
   "execution_count": 35,
   "metadata": {},
   "outputs": [
    {
     "output_type": "stream",
     "name": "stdout",
     "text": [
      "2\n"
     ]
    }
   ],
   "source": [
    "#Using dictionary for selecting an item\n",
    "print({True:a,False:b}[a<b])"
   ]
  },
  {
   "cell_type": "code",
   "execution_count": 37,
   "metadata": {},
   "outputs": [
    {
     "output_type": "stream",
     "name": "stdout",
     "text": [
      "a greater than b\n"
     ]
    }
   ],
   "source": [
    "#Nested Ternary Operator\n",
    "print(\"a==b\" if a==b else \"a!=b\" if a<b else \"a greater than b\")"
   ]
  },
  {
   "cell_type": "code",
   "execution_count": 38,
   "metadata": {},
   "outputs": [],
   "source": [
    "#Division Operator"
   ]
  },
  {
   "cell_type": "code",
   "execution_count": 40,
   "metadata": {},
   "outputs": [
    {
     "output_type": "stream",
     "name": "stdout",
     "text": [
      "2.5\n-2.5\n"
     ]
    }
   ],
   "source": [
    "#Python program to demonstrate use of '/'\n",
    "print (5/2)\n",
    "print (-5/2)"
   ]
  },
  {
   "cell_type": "code",
   "execution_count": 41,
   "metadata": {},
   "outputs": [
    {
     "output_type": "stream",
     "name": "stdout",
     "text": [
      "2.5\n"
     ]
    }
   ],
   "source": [
    "print(5.0/2)"
   ]
  },
  {
   "cell_type": "code",
   "execution_count": null,
   "metadata": {},
   "outputs": [],
   "source": []
  }
 ]
}