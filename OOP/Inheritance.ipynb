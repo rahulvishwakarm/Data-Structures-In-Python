{
 "metadata": {
  "language_info": {
   "codemirror_mode": {
    "name": "ipython",
    "version": 3
   },
   "file_extension": ".py",
   "mimetype": "text/x-python",
   "name": "python",
   "nbconvert_exporter": "python",
   "pygments_lexer": "ipython3",
   "version": "3.8.3-final"
  },
  "orig_nbformat": 2,
  "kernelspec": {
   "name": "python3",
   "display_name": "Python 3",
   "language": "python"
  }
 },
 "nbformat": 4,
 "nbformat_minor": 2,
 "cells": [
  {
   "cell_type": "code",
   "execution_count": 1,
   "metadata": {},
   "outputs": [],
   "source": [
    "#Inheritance is the capability of one class to acquire the proberty of another class\n",
    "#It provides the the reuasiblity of the code\n",
    "#It is transitive in nature , which means when class B inherit from class A then subclass of class B will be automatically get properties of class A"
   ]
  },
  {
   "cell_type": "code",
   "execution_count": 4,
   "metadata": {},
   "outputs": [
    {
     "output_type": "stream",
     "name": "stdout",
     "text": [
      "Rahul Vishwakarma False\nAryan Vishwakarma True\n"
     ]
    }
   ],
   "source": [
    "class Student:\n",
    "    #Constructor\n",
    "    def __init__(self,Name):\n",
    "        self.Name=Name\n",
    "    def getName(self):\n",
    "        return self.Name\n",
    "    def isStudent(self):\n",
    "        return False\n",
    "#Inheriated Class\n",
    "class NewStudent(Student):\n",
    "    def isStudent(self):\n",
    "        return True\n",
    "emp=Student(\"Rahul Vishwakarma\")\n",
    "print(emp.getName(),emp.isStudent())\n",
    "newemp=NewStudent(\"Aryan Vishwakarma\")\n",
    "print(newemp.getName(),newemp.isStudent())\n",
    "\n",
    "    "
   ]
  },
  {
   "cell_type": "code",
   "execution_count": 5,
   "metadata": {},
   "outputs": [],
   "source": [
    "#Second Example of Inheritance"
   ]
  },
  {
   "cell_type": "code",
   "execution_count": 13,
   "metadata": {},
   "outputs": [
    {
     "output_type": "stream",
     "name": "stdout",
     "text": [
      "Rahul V\n615\n"
     ]
    }
   ],
   "source": [
    "class Student:\n",
    "    def __init__(self):\n",
    "        self.Name=input(\"Enter Your Name:\")\n",
    "    def RollNO(self):\n",
    "        self.rollno=int(input(\"Enter Your RollNo:\"))\n",
    "class Display(Student):\n",
    "    def display(self):\n",
    "        print(self.Name)\n",
    "        print(self.rollno)\n",
    "\n",
    "stud2=Display()\n",
    "stud2.RollNO()\n",
    "stud2.display()"
   ]
  },
  {
   "cell_type": "code",
   "execution_count": 14,
   "metadata": {},
   "outputs": [],
   "source": [
    "# Using __init__[Constructor] of parent class to inherit class\n",
    "# Calling Parent COnstructor in Inherit class"
   ]
  },
  {
   "cell_type": "code",
   "execution_count": 17,
   "metadata": {},
   "outputs": [
    {
     "output_type": "stream",
     "name": "stdout",
     "text": [
      "Rahul\n615\n"
     ]
    }
   ],
   "source": [
    "class Student:\n",
    "    #parent Constructor\n",
    "    def __init__(self,name,rollno):\n",
    "        self.name=name\n",
    "        self.rollno=rollno\n",
    "    def display(self):\n",
    "        print(self.name)\n",
    "        print(self.rollno)\n",
    "class InheritStudent(Student):\n",
    "    #Inherited Class Constructor\n",
    "    def __init__(self,name,rollno,studstream):\n",
    "        self.studstream=studstream\n",
    "\n",
    "        #Invoking the __init__ of parent class\n",
    "        Student.__init__(self,name,rollno)\n",
    "stud=InheritStudent(\"Rahul\",615,\"Tech\")\n",
    "stud.display()"
   ]
  },
  {
   "cell_type": "code",
   "execution_count": 18,
   "metadata": {},
   "outputs": [],
   "source": [
    "#Types of Inheritance\n",
    "\n",
    "#Single Inheritance\n",
    "#Multiple Inheritance\n",
    "#Multilevel Inheritance\n",
    "#Hierarchical Inheritance\n",
    "#Hybrid Inheritance"
   ]
  },
  {
   "cell_type": "code",
   "execution_count": 19,
   "metadata": {},
   "outputs": [],
   "source": [
    "#Single Inheritance - When child class is Inherit from one single class the it is Single Inheritance"
   ]
  },
  {
   "cell_type": "code",
   "execution_count": 25,
   "metadata": {},
   "outputs": [
    {
     "output_type": "stream",
     "name": "stdout",
     "text": [
      "Addition: 14\nSubtraction: -2\nMultiplication: 48\nDivision: 0\n"
     ]
    }
   ],
   "source": [
    "class Calculate:\n",
    "    def __init__(self,num1,num2):\n",
    "        self.num1=num1\n",
    "        self.num2=num2\n",
    "    def Add(self):\n",
    "        self.add=self.num1+self.num2\n",
    "    def Sub(self):\n",
    "        self.sub=self.num1-self.num2\n",
    "class NewCalculate(Calculate):\n",
    "    def Mult(self):\n",
    "        self.mul=self.num1*self.num2\n",
    "    def Div(self):\n",
    "        self.div=self.num1//self.num2\n",
    "    def dispaly(self):\n",
    "        print(\"Addition:\",self.add)\n",
    "        print(\"Subtraction:\",self.sub)\n",
    "        print(\"Multiplication:\",self.mul)\n",
    "        print(\"Division:\",self.div)\n",
    "cal=NewCalculate(6,8)\n",
    "cal.Add()\n",
    "cal.Sub()\n",
    "cal.Mult()\n",
    "cal.Div()\n",
    "cal.dispaly()\n",
    "    \n"
   ]
  },
  {
   "cell_type": "code",
   "execution_count": 26,
   "metadata": {},
   "outputs": [],
   "source": [
    "#Multiple Inheritance - When class inherit from multiple parent class , class is called multiple inheritance"
   ]
  },
  {
   "cell_type": "code",
   "execution_count": 29,
   "metadata": {},
   "outputs": [
    {
     "output_type": "stream",
     "name": "stdout",
     "text": [
      "Addition: 87\nSubtraction: 3\nMultiplication: 1890\nDivision: 1.0714285714285714\n"
     ]
    }
   ],
   "source": [
    "class AddSub:\n",
    "    def __init__(self):\n",
    "        self.num1=int(input(\"Enter num 1:\"))\n",
    "    def add(self):\n",
    "        self.add=self.num1+self.num2\n",
    "    def sub(self):\n",
    "        self.sub=self.num1-self.num2\n",
    "class MultDiv:\n",
    "    def __init__(self):\n",
    "        AddSub.__init__(self)\n",
    "        self.num2=int(input(\"Enter num 2:\"))\n",
    "    def mul(self):\n",
    "        self.mul=self.num1*self.num2\n",
    "    def div(self):\n",
    "        self.div=self.num1/self.num2\n",
    "class Display(AddSub,MultDiv):\n",
    "    def __init__(self):\n",
    "        MultDiv.__init__(self)\n",
    "    def display(self):\n",
    "        print(\"Addition:\",self.add)\n",
    "        print(\"Subtraction:\",self.sub)\n",
    "        print(\"Multiplication:\",self.mul)\n",
    "        print(\"Division:\",self.div)\n",
    "cal=Display()\n",
    "cal.add()\n",
    "cal.sub()\n",
    "cal.mul()\n",
    "cal.div()\n",
    "cal.display()"
   ]
  },
  {
   "cell_type": "code",
   "execution_count": 30,
   "metadata": {},
   "outputs": [],
   "source": [
    "#Multilevel Inheritance - When we have child and grand child relation"
   ]
  },
  {
   "cell_type": "code",
   "execution_count": 38,
   "metadata": {},
   "outputs": [
    {
     "output_type": "stream",
     "name": "stdout",
     "text": [
      "Addition: 33\nSubtraction: -9\nMultiplication: 252\nDivision: 0.5714285714285714\n"
     ]
    }
   ],
   "source": [
    "class AddSub:\n",
    "    def __init__(self):\n",
    "        self.num1=int(input(\"Enter num 1:\"))\n",
    "    def Add(self):\n",
    "        self.add=self.num1+self.num2\n",
    "    def Sub(self):\n",
    "        self.sub=self.num1-self.num2\n",
    "class MulDiv(AddSub):\n",
    "    def __init__(self):\n",
    "        AddSub.__init__(self)\n",
    "        self.num2=int(input(\"Enter num 2:\"))\n",
    "        AddSub.Add(self)\n",
    "        AddSub.Sub(self)\n",
    "    def Mul(self):\n",
    "        self.mul=self.num1*self.num2\n",
    "    def Div(self):\n",
    "        self.div=self.num1/self.num2\n",
    "class Display(MultDiv):\n",
    "    def __init__(self):\n",
    "        MulDiv.__init__(self)\n",
    "        MulDiv.Mul(self)\n",
    "        MulDiv.Div(self)\n",
    "    def display(self):\n",
    "        print(\"Addition:\",self.add)\n",
    "        print(\"Subtraction:\",self.sub)\n",
    "        print(\"Multiplication:\",self.mul)\n",
    "        print(\"Division:\",self.div)\n",
    "cal=Display()\n",
    "cal.display()"
   ]
  },
  {
   "cell_type": "code",
   "execution_count": 39,
   "metadata": {},
   "outputs": [],
   "source": [
    "#Hierarchical Inheritance - When multiple class is inheritated one single class, then class is called Hierarchical Inheritance"
   ]
  },
  {
   "cell_type": "code",
   "execution_count": 40,
   "metadata": {},
   "outputs": [],
   "source": [
    "#Hybrid Inheritance - Have combination of different type of Inheritance"
   ]
  },
  {
   "cell_type": "code",
   "execution_count": 42,
   "metadata": {},
   "outputs": [],
   "source": [
    "#Private Members of the parent class\n",
    "# __variablename is the syantax to declare the private variable"
   ]
  },
  {
   "cell_type": "code",
   "execution_count": 43,
   "metadata": {},
   "outputs": [
    {
     "output_type": "stream",
     "name": "stdout",
     "text": [
      "12\n"
     ]
    },
    {
     "output_type": "error",
     "ename": "AttributeError",
     "evalue": "'inheritPrivateVaribale' object has no attribute 'd'",
     "traceback": [
      "\u001b[1;31m---------------------------------------------------------------------------\u001b[0m",
      "\u001b[1;31mAttributeError\u001b[0m                            Traceback (most recent call last)",
      "\u001b[1;32m<ipython-input-43-f337cab85bc1>\u001b[0m in \u001b[0;36m<module>\u001b[1;34m\u001b[0m\n\u001b[0;32m     10\u001b[0m \u001b[0mobj\u001b[0m\u001b[1;33m=\u001b[0m\u001b[0minheritPrivateVaribale\u001b[0m\u001b[1;33m(\u001b[0m\u001b[1;33m)\u001b[0m\u001b[1;33m\u001b[0m\u001b[1;33m\u001b[0m\u001b[0m\n\u001b[0;32m     11\u001b[0m \u001b[0mprint\u001b[0m\u001b[1;33m(\u001b[0m\u001b[0mobj\u001b[0m\u001b[1;33m.\u001b[0m\u001b[0ma\u001b[0m\u001b[1;33m)\u001b[0m\u001b[1;33m\u001b[0m\u001b[1;33m\u001b[0m\u001b[0m\n\u001b[1;32m---> 12\u001b[1;33m \u001b[0mprint\u001b[0m\u001b[1;33m(\u001b[0m\u001b[0mobj\u001b[0m\u001b[1;33m.\u001b[0m\u001b[0md\u001b[0m\u001b[1;33m)\u001b[0m\u001b[1;33m\u001b[0m\u001b[1;33m\u001b[0m\u001b[0m\n\u001b[0m\u001b[0;32m     13\u001b[0m \u001b[0mprint\u001b[0m\u001b[1;33m(\u001b[0m\u001b[0mobj\u001b[0m\u001b[1;33m.\u001b[0m\u001b[0mc\u001b[0m\u001b[1;33m)\u001b[0m\u001b[1;33m\u001b[0m\u001b[1;33m\u001b[0m\u001b[0m\n",
      "\u001b[1;31mAttributeError\u001b[0m: 'inheritPrivateVaribale' object has no attribute 'd'"
     ]
    }
   ],
   "source": [
    "class privateVariable:\n",
    "    def __init__(self):\n",
    "        #Private Instance Variable\n",
    "        self.a=12\n",
    "        self.__d=32\n",
    "class inheritPrivateVaribale(privateVariable):\n",
    "    def __init__(self):\n",
    "        self.c=72\n",
    "        privateVariable.__init__(self)\n",
    "obj=inheritPrivateVaribale()\n",
    "print(obj.a)\n",
    "print(obj.d)\n",
    "print(obj.c)"
   ]
  },
  {
   "cell_type": "code",
   "execution_count": null,
   "metadata": {},
   "outputs": [],
   "source": []
  }
 ]
}