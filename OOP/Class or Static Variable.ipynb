{
 "metadata": {
  "language_info": {
   "codemirror_mode": {
    "name": "ipython",
    "version": 3
   },
   "file_extension": ".py",
   "mimetype": "text/x-python",
   "name": "python",
   "nbconvert_exporter": "python",
   "pygments_lexer": "ipython3",
   "version": "3.8.3-final"
  },
  "orig_nbformat": 2,
  "kernelspec": {
   "name": "python3",
   "display_name": "Python 3",
   "language": "python"
  }
 },
 "nbformat": 4,
 "nbformat_minor": 2,
 "cells": [
  {
   "cell_type": "code",
   "execution_count": 2,
   "metadata": {},
   "outputs": [
    {
     "output_type": "stream",
     "name": "stdout",
     "text": [
      "Web Development\nWeb Development\nRahul\nSachin\n615\n615\nWeb Development\nSoftware Enginnering\nWeb Development\nSoftware Enginnering\nSoftware Enginner\nSoftware Enginner\n"
     ]
    }
   ],
   "source": [
    "class ITStudent:\n",
    "    #class variable\n",
    "    stream=\"Web Development\"\n",
    "    def __init__(self,name,rollno):\n",
    "        self.name=name #Instance Variable\n",
    "        self.rollno=rollno #Instance Variable\n",
    "a=ITStudent(\"Rahul\",615)\n",
    "b=ITStudent(\"Sachin\",615)\n",
    "print(a.stream)\n",
    "print(b.stream)\n",
    "print(a.name)\n",
    "print(b.name)\n",
    "print(a.rollno)\n",
    "print(b.rollno)\n",
    "\n",
    "# class variable can also be accesed using class name\n",
    "print(ITStudent.stream)\n",
    "\n",
    "# Now if we change the value of a , value of b remains unchanged\n",
    "a.stream=\"Software Enginnering\"\n",
    "print(a.stream)\n",
    "print(b.stream)\n",
    "\n",
    "#If we want to change both a and b then we have change it through class name\n",
    "ITStudent.stream=\"Software Enginner\"\n",
    "print(a.stream)\n",
    "print(b.stream)\n",
    "print(ITStudent.stream)"
   ]
  },
  {
   "cell_type": "code",
   "execution_count": null,
   "metadata": {},
   "outputs": [],
   "source": []
  }
 ]
}