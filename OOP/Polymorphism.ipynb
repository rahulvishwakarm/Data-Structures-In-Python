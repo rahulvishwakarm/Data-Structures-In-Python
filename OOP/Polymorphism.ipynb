{
 "metadata": {
  "language_info": {
   "codemirror_mode": {
    "name": "ipython",
    "version": 3
   },
   "file_extension": ".py",
   "mimetype": "text/x-python",
   "name": "python",
   "nbconvert_exporter": "python",
   "pygments_lexer": "ipython3",
   "version": "3.8.3-final"
  },
  "orig_nbformat": 2,
  "kernelspec": {
   "name": "python3",
   "display_name": "Python 3",
   "language": "python"
  }
 },
 "nbformat": 4,
 "nbformat_minor": 2,
 "cells": [
  {
   "cell_type": "code",
   "execution_count": 1,
   "metadata": {},
   "outputs": [],
   "source": [
    "#polymorphism - Means many form , In programming polymorphism means having same function name but different number of parameter"
   ]
  },
  {
   "cell_type": "code",
   "execution_count": 2,
   "metadata": {},
   "outputs": [
    {
     "output_type": "stream",
     "name": "stdout",
     "text": [
      "9\n"
     ]
    }
   ],
   "source": [
    "#length for string\n",
    "print(len(\"Testing..\"))"
   ]
  },
  {
   "cell_type": "code",
   "execution_count": 4,
   "metadata": {},
   "outputs": [
    {
     "output_type": "stream",
     "name": "stdout",
     "text": [
      "3\n"
     ]
    }
   ],
   "source": [
    "#length for list\n",
    "print(len([10,30,50]))"
   ]
  },
  {
   "cell_type": "code",
   "execution_count": 6,
   "metadata": {},
   "outputs": [
    {
     "output_type": "stream",
     "name": "stdout",
     "text": [
      "8\n21\n"
     ]
    }
   ],
   "source": [
    "#Program to demonstrate polymorphism\n",
    "def add(x,y,z=0):\n",
    "    return x+y+z\n",
    "print(add(3,5))\n",
    "print(add(6,7,8))"
   ]
  },
  {
   "cell_type": "code",
   "execution_count": 8,
   "metadata": {},
   "outputs": [
    {
     "output_type": "stream",
     "name": "stdout",
     "text": [
      "Delhi\nHindi\nDeveloping Country\nWashington\nEnglish\nDeveloped Country\n"
     ]
    }
   ],
   "source": [
    "#Polymorphism with class method\n",
    "class India:\n",
    "    def capital(self):\n",
    "        print(\"Delhi\")\n",
    "    def language(self):\n",
    "        print(\"Hindi\")\n",
    "    def type(self):\n",
    "        print(\"Developing Country\")\n",
    "class USA:\n",
    "    def capital(self):\n",
    "        print(\"Washington\")\n",
    "    def language(self):\n",
    "        print(\"English\")\n",
    "    def type(self):\n",
    "        print(\"Developed Country\")\n",
    "country1=India()\n",
    "country2=USA()\n",
    "for country in (country1,country2):\n",
    "    country.capital()\n",
    "    country.language()\n",
    "    country.type()"
   ]
  },
  {
   "cell_type": "code",
   "execution_count": null,
   "metadata": {},
   "outputs": [],
   "source": []
  }
 ]
}