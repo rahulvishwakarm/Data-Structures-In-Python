{
 "metadata": {
  "language_info": {
   "codemirror_mode": {
    "name": "ipython",
    "version": 3
   },
   "file_extension": ".py",
   "mimetype": "text/x-python",
   "name": "python",
   "nbconvert_exporter": "python",
   "pygments_lexer": "ipython3",
   "version": "3.8.3-final"
  },
  "orig_nbformat": 2,
  "kernelspec": {
   "name": "python3",
   "display_name": "Python 3",
   "language": "python"
  }
 },
 "nbformat": 4,
 "nbformat_minor": 2,
 "cells": [
  {
   "cell_type": "code",
   "execution_count": 1,
   "metadata": {},
   "outputs": [],
   "source": [
    "# Class are the user defined data structure, It allow us to bind data and functionlity together.\n",
    "# Classes are created by keyword class"
   ]
  },
  {
   "cell_type": "code",
   "execution_count": 6,
   "metadata": {},
   "outputs": [
    {
     "output_type": "error",
     "ename": "SyntaxError",
     "evalue": "invalid syntax (<ipython-input-6-21b80a960c6b>, line 1)",
     "traceback": [
      "\u001b[1;36m  File \u001b[1;32m\"<ipython-input-6-21b80a960c6b>\"\u001b[1;36m, line \u001b[1;32m1\u001b[0m\n\u001b[1;33m    class test[ClassName]:\u001b[0m\n\u001b[1;37m              ^\u001b[0m\n\u001b[1;31mSyntaxError\u001b[0m\u001b[1;31m:\u001b[0m invalid syntax\n"
     ]
    }
   ],
   "source": [
    "class test[ClassName]:\n",
    "    pass"
   ]
  },
  {
   "cell_type": "code",
   "execution_count": 7,
   "metadata": {},
   "outputs": [],
   "source": [
    "#Object - Object are the instance of the class"
   ]
  },
  {
   "cell_type": "code",
   "execution_count": 8,
   "metadata": {},
   "outputs": [
    {
     "output_type": "stream",
     "name": "stdout",
     "text": [
      "mamal\nI am a: mamal\nI am  brown  in color\n"
     ]
    }
   ],
   "source": [
    "class Dog:\n",
    "    att1 = \"mamal\"\n",
    "    att2 = \"brown\"\n",
    "    def fun(self):\n",
    "        print(\"I am a:\",self.att1)\n",
    "        print(\"I am \",self.att2,\" in color\")\n",
    "Roder = Dog()\n",
    "print(Roder.att1)\n",
    "Roder.fun()"
   ]
  },
  {
   "cell_type": "code",
   "execution_count": 9,
   "metadata": {},
   "outputs": [],
   "source": [
    "# __init__ [Constructor]"
   ]
  },
  {
   "cell_type": "code",
   "execution_count": 10,
   "metadata": {},
   "outputs": [
    {
     "output_type": "stream",
     "name": "stdout",
     "text": [
      "Name: Rahul\nRoll No: 615\n"
     ]
    }
   ],
   "source": [
    "class student:\n",
    "    def __init__(self,name):\n",
    "        self.name = name\n",
    "    def rollNo(self,rollno):\n",
    "        self.rollno = rollno\n",
    "    def accessStudentAttribute(self):\n",
    "        print(\"Name:\",self.name)\n",
    "        print(\"Roll No:\",self.rollno)\n",
    "StudentObject = student(\"Rahul\")\n",
    "StudentObject.rollNo(615)\n",
    "StudentObject.accessStudentAttribute()"
   ]
  },
  {
   "cell_type": "code",
   "execution_count": 11,
   "metadata": {},
   "outputs": [],
   "source": [
    "#Class Variable - Variable declared inside class and outside functions or constructor is called class variable\n",
    "#Instance Variable - Variable declared inside the paticluar class are called the instance variable of that class"
   ]
  },
  {
   "cell_type": "code",
   "execution_count": 12,
   "metadata": {},
   "outputs": [
    {
     "output_type": "stream",
     "name": "stdout",
     "text": [
      "Class Variable: Rahul Vishwakarma\nInstance Variable: 615\n"
     ]
    }
   ],
   "source": [
    "class Student:\n",
    "    #class variable\n",
    "    Name = \"Rahul Vishwakarma\"\n",
    "\n",
    "    def __init__(self,rollno):\n",
    "\n",
    "        #Instance Variable\n",
    "        self.rollno=rollno\n",
    "    def AccessingAttribute(self):\n",
    "        print(\"Class Variable:\",Student.Name)\n",
    "        print(\"Instance Variable:\",self.rollno)\n",
    "VariableType = Student(615)\n",
    "VariableType.AccessingAttribute()\n"
   ]
  },
  {
   "cell_type": "code",
   "execution_count": null,
   "metadata": {},
   "outputs": [],
   "source": []
  }
 ]
}