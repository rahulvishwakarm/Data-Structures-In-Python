{
 "metadata": {
  "language_info": {
   "codemirror_mode": {
    "name": "ipython",
    "version": 3
   },
   "file_extension": ".py",
   "mimetype": "text/x-python",
   "name": "python",
   "nbconvert_exporter": "python",
   "pygments_lexer": "ipython3",
   "version": "3.8.3-final"
  },
  "orig_nbformat": 2,
  "kernelspec": {
   "name": "python3",
   "display_name": "Python 3",
   "language": "python"
  }
 },
 "nbformat": 4,
 "nbformat_minor": 2,
 "cells": [
  {
   "cell_type": "code",
   "execution_count": 1,
   "metadata": {},
   "outputs": [],
   "source": [
    "# [__init__] is the constructor, there are 2 type of constructor i.e Parameterized and Non-Parameterized Constructor\n",
    "# Parameterized Constructor are the constructor with the parameter\n",
    "# Non-Parameterized Constructor are the constructor without parameter"
   ]
  },
  {
   "cell_type": "code",
   "execution_count": 2,
   "metadata": {},
   "outputs": [],
   "source": [
    "#Syantax\n",
    "#def __init__(self):\n",
    "    #body of the constructor"
   ]
  },
  {
   "cell_type": "code",
   "execution_count": 6,
   "metadata": {},
   "outputs": [
    {
     "output_type": "stream",
     "name": "stdout",
     "text": [
      "Name: Rahul Vishwakarma\nRoll No: 615\n"
     ]
    }
   ],
   "source": [
    "#Default Constructor\n",
    "class Student:\n",
    "    #default constructor\n",
    "    def __init__(self):\n",
    "        self.name=\"Rahul Vishwakarma\"\n",
    "    def RollNo(self):\n",
    "        self.rollno=615\n",
    "    def printing(self):\n",
    "        print(\"Name:\",self.name)\n",
    "        print(\"Roll No:\",self.rollno)\n",
    "#Creating Object of the class\n",
    "obj = Student()\n",
    "obj.RollNo()\n",
    "obj.printing()"
   ]
  },
  {
   "cell_type": "code",
   "execution_count": 7,
   "metadata": {},
   "outputs": [
    {
     "output_type": "stream",
     "name": "stdout",
     "text": [
      "Rahul Vishwakarma\n615\n"
     ]
    }
   ],
   "source": [
    "#Parameterized Constructor\n",
    "class Student:\n",
    "    #Parameterized Constructor\n",
    "    def __init__(self,Name,Rollno):\n",
    "        self.Name=Name\n",
    "        self.Rollno=Rollno\n",
    "    def printing(self):\n",
    "        print(self.Name)\n",
    "        print(self.Rollno)\n",
    "getStudent = Student(\"Rahul Vishwakarma\",615)\n",
    "getStudent.printing()"
   ]
  },
  {
   "cell_type": "code",
   "execution_count": 10,
   "metadata": {},
   "outputs": [
    {
     "output_type": "stream",
     "name": "stdout",
     "text": [
      "Addition: 12\nSubtraction: 4\nMultiplication: 32\nDivision: 2\n"
     ]
    }
   ],
   "source": [
    "#Second Example of parametrized Constructor\n",
    "class Calculate:\n",
    "    def __init__(self):\n",
    "        self.num1=int(input(\"Enter number 1:\"))\n",
    "        self.num2=int(input(\"Enter number 2:\"))\n",
    "    def Addition(self):\n",
    "        self.add=self.num1+self.num2\n",
    "    def Subtraction(self):\n",
    "        self.sub=self.num1-self.num2\n",
    "    def Multiplication(self):\n",
    "        self.mul=self.num1*self.num2\n",
    "    def Division(self):\n",
    "        self.div=self.num1//self.num2 #floor division\n",
    "    def Display(self):\n",
    "        print(\"Addition:\",self.add)\n",
    "        print(\"Subtraction:\",self.sub)\n",
    "        print(\"Multiplication:\",self.mul)\n",
    "        print(\"Division:\",self.div)\n",
    "Cal=Calculate()\n",
    "Cal.Addition()\n",
    "Cal.Subtraction()\n",
    "Cal.Multiplication()\n",
    "Cal.Division()\n",
    "Cal.Display()"
   ]
  },
  {
   "cell_type": "code",
   "execution_count": null,
   "metadata": {},
   "outputs": [],
   "source": []
  }
 ]
}