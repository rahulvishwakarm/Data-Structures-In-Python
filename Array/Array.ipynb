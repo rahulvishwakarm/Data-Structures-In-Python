{
 "metadata": {
  "language_info": {
   "codemirror_mode": {
    "name": "ipython",
    "version": 3
   },
   "file_extension": ".py",
   "mimetype": "text/x-python",
   "name": "python",
   "nbconvert_exporter": "python",
   "pygments_lexer": "ipython3",
   "version": "3.8.3-final"
  },
  "orig_nbformat": 2,
  "kernelspec": {
   "name": "python3",
   "display_name": "Python 3",
   "language": "python"
  }
 },
 "nbformat": 4,
 "nbformat_minor": 2,
 "cells": [
  {
   "cell_type": "code",
   "execution_count": 1,
   "metadata": {},
   "outputs": [],
   "source": [
    "#An Array is the collection of element store at contigious memory location\n",
    "#Here element with the same data type are stored together"
   ]
  },
  {
   "cell_type": "code",
   "execution_count": 5,
   "metadata": {},
   "outputs": [],
   "source": [
    "#An array s created by importing the array as arr"
   ]
  },
  {
   "cell_type": "code",
   "execution_count": 6,
   "metadata": {},
   "outputs": [
    {
     "output_type": "stream",
     "name": "stdout",
     "text": [
      "Created array is: array('i', [1, 2, 4])\n"
     ]
    }
   ],
   "source": [
    "#Creating an array\n",
    "import array as arr\n",
    "a=arr.array('i',[1,2,4])\n",
    "print(\"Created array is:\",a)"
   ]
  },
  {
   "cell_type": "code",
   "execution_count": 8,
   "metadata": {},
   "outputs": [
    {
     "output_type": "stream",
     "name": "stdout",
     "text": [
      "Element at index 0   is: 1\nElement at index 1   is: 2\nElement at index 2   is: 4\n"
     ]
    }
   ],
   "source": [
    "#Iterating an array\n",
    "for i in range(len(a)):\n",
    "    print(\"Element at index\",i,\" \",\"is:\",a[i])"
   ]
  },
  {
   "cell_type": "code",
   "execution_count": 12,
   "metadata": {},
   "outputs": [],
   "source": [
    "#For Integer -> \"i\"\n",
    "#For Float -> \"f\""
   ]
  },
  {
   "cell_type": "code",
   "execution_count": 13,
   "metadata": {},
   "outputs": [],
   "source": [
    "#Inserting element using insert() method"
   ]
  },
  {
   "cell_type": "code",
   "execution_count": 14,
   "metadata": {},
   "outputs": [
    {
     "output_type": "stream",
     "name": "stdout",
     "text": [
      "Array with float element before Inserting: array('f', [0.5, 6.199999809265137, 9.300000190734863, 6.400000095367432, 3.200000047683716])\nArray with float element after Inserting: array('f', [0.5, 6.199999809265137, 3.5999999046325684, 9.300000190734863, 6.400000095367432, 3.200000047683716])\n"
     ]
    }
   ],
   "source": [
    "import array as arr\r\n",
    "b=arr.array('f',[0.5,6.2,9.3,6.4,3.2])\r\n",
    "print(\"Array with float element before Inserting:\",b)\r\n",
    "b.insert(2,3.6)\r\n",
    "print(\"Array with float element after Inserting:\",b)"
   ]
  },
  {
   "cell_type": "code",
   "execution_count": 18,
   "metadata": {},
   "outputs": [
    {
     "output_type": "stream",
     "name": "stdout",
     "text": [
      "Before Removing the element from array: array('d', [6.3, 5.4, 3.1, 9.1, 3.0])\nAfter Removing the element from array: array('d', [6.3, 5.4, 9.1, 3.0])\n"
     ]
    }
   ],
   "source": [
    "#Removing the element form an array\n",
    "import array as Ar\n",
    "arr_y=Ar.array('d',[6.3,5.4,3.1,9.1,3.0])\n",
    "print(\"Before Removing the element from array:\",arr_y)\n",
    "arr_y.pop(2)\n",
    "print(\"After Removing the element from array:\",arr_y)"
   ]
  },
  {
   "cell_type": "code",
   "execution_count": 19,
   "metadata": {},
   "outputs": [
    {
     "output_type": "stream",
     "name": "stdout",
     "text": [
      "Before Removing the element from array: array('d', [6.3, 5.4, 3.1, 9.1, 3.0, 5.4, 0.9, 5.4])\nAfter Removing the element from array: array('d', [6.3, 3.1, 9.1, 3.0, 5.4, 0.9, 5.4])\n"
     ]
    }
   ],
   "source": [
    "#Remving with remove() method - It remove the first occurance of the element\n",
    "import array as Ar\n",
    "arr_y=Ar.array('d',[6.3,5.4,3.1,9.1,3.0,5.4,0.9,5.4])\n",
    "print(\"Before Removing the element from array:\",arr_y)\n",
    "arr_y.remove(5.4)\n",
    "print(\"After Removing the element from array:\",arr_y)"
   ]
  },
  {
   "cell_type": "code",
   "execution_count": 20,
   "metadata": {},
   "outputs": [
    {
     "output_type": "stream",
     "name": "stdout",
     "text": [
      "Orignal Array: array('i', [8, 3, 9, 2, 1, 0, 5])\nSliced array: array('i', [9, 2, 1, 0, 5])\n"
     ]
    }
   ],
   "source": [
    "#Slicing of an array\n",
    "import array as Arr\n",
    "lst=[8,3,9,2,1,0,5]\n",
    "sl_array=Arr.array('i',lst)\n",
    "print(\"Orignal Array:\",sl_array)\n",
    "sliced_array=sl_array[2:len(lst)]\n",
    "print(\"Sliced array:\",sliced_array)"
   ]
  },
  {
   "cell_type": "code",
   "execution_count": 21,
   "metadata": {},
   "outputs": [
    {
     "output_type": "stream",
     "name": "stdout",
     "text": [
      "Orignal Array: array('i', [8, 3, 9, 2, 1, 0, 5])\narray('i', [8, 3, 9, 2])\narray('i', [2, 1, 0, 5])\narray('i', [8, 3, 9, 2, 1, 0, 5])\narray('i', [8, 3, 9, 2, 1])\n"
     ]
    }
   ],
   "source": [
    "import array as Arr\n",
    "lst=[8,3,9,2,1,0,5]\n",
    "sl_array=Arr.array('i',lst)\n",
    "print(\"Orignal Array:\",sl_array)\n",
    "sliced_array=sl_array[0:4]\n",
    "sliced_array_1=sl_array[3:]\n",
    "sliced_array_2=sl_array[:len(lst)] #Negative Indexing\n",
    "sliced_array_3=sl_array[:5]\n",
    "print(sliced_array)\n",
    "print(sliced_array_1)\n",
    "print(sliced_array_2)\n",
    "print(sliced_array_3)\n"
   ]
  },
  {
   "cell_type": "code",
   "execution_count": 23,
   "metadata": {},
   "outputs": [
    {
     "output_type": "stream",
     "name": "stdout",
     "text": [
      "Array to be Searched: array('i', [6, 4, 2, 0, 8, 1, 2, 9, 5, 2])\nFirst Occurnce of 2 is at index: 2\n"
     ]
    }
   ],
   "source": [
    "#Searching in an array\n",
    "import array as Arr\n",
    "srch_array=Arr.array('i',[6,4,2,0,8,1,2,9,5,2])\n",
    "print(\"Array to be Searched:\",srch_array)\n",
    "#Using index() method - Search the first Occurance of specific element at the specific Index\n",
    "print(\"First Occurnce of 2 is at index:\",srch_array.index(2))\n"
   ]
  },
  {
   "cell_type": "code",
   "execution_count": 25,
   "metadata": {},
   "outputs": [
    {
     "output_type": "stream",
     "name": "stdout",
     "text": [
      "Original array: array('i', [6, 4, 2, 0, 8, 1, 2, 9, 5, 2])\nUpdated Array: array('i', [6, 4, 2, 4, 8, 1, 2, 9, 5, 2])\n"
     ]
    }
   ],
   "source": [
    "#Updating an Array\n",
    "import array as Arr\n",
    "updt_array=Arr.array('i',[6,4,2,0,8,1,2,9,5,2])\n",
    "print(\"Original array:\",updt_array)\n",
    "updt_array[3]=4\n",
    "print(\"Updated Array:\",updt_array)"
   ]
  },
  {
   "cell_type": "code",
   "execution_count": null,
   "metadata": {},
   "outputs": [],
   "source": []
  }
 ]
}