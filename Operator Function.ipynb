{
 "metadata": {
  "language_info": {
   "codemirror_mode": {
    "name": "ipython",
    "version": 3
   },
   "file_extension": ".py",
   "mimetype": "text/x-python",
   "name": "python",
   "nbconvert_exporter": "python",
   "pygments_lexer": "ipython3",
   "version": "3.8.3-final"
  },
  "orig_nbformat": 2,
  "kernelspec": {
   "name": "python3",
   "display_name": "Python 3",
   "language": "python"
  }
 },
 "nbformat": 4,
 "nbformat_minor": 2,
 "cells": [
  {
   "cell_type": "code",
   "execution_count": 1,
   "metadata": {},
   "outputs": [],
   "source": [
    "#Demonstrate use of add() sub() and mul()"
   ]
  },
  {
   "cell_type": "code",
   "execution_count": 3,
   "metadata": {},
   "outputs": [
    {
     "output_type": "stream",
     "name": "stdout",
     "text": [
      "Addition: 16\nSubtraction -8\nMultiplication: 48\n"
     ]
    }
   ],
   "source": [
    "import operator\n",
    "a=4\n",
    "b=12\n",
    "print(\"Addition:\",operator.add(a,b))\n",
    "print(\"Subtraction\",operator.sub(a,b))\n",
    "print(\"Multiplication:\",operator.mul(a,b))"
   ]
  },
  {
   "cell_type": "code",
   "execution_count": 4,
   "metadata": {},
   "outputs": [],
   "source": [
    "#Demonstrate use of truediv(a,b),floordiv(a,b),pow(a,b) and mod(a,b)\n"
   ]
  },
  {
   "cell_type": "code",
   "execution_count": 6,
   "metadata": {},
   "outputs": [
    {
     "output_type": "stream",
     "name": "stdout",
     "text": [
      "Division: 1.6666666666666667\nFloor Divion: 1\nPower: 125\nmod: 2\n"
     ]
    }
   ],
   "source": [
    "import operator\n",
    "a=5\n",
    "b=3\n",
    "print(\"Division:\",operator.truediv(a,b))\n",
    "print(\"Floor Divion:\",operator.floordiv(a,b))\n",
    "print(\"Power:\",operator.pow(a,b))\n",
    "print(\"mod:\",operator.mod(a,b))"
   ]
  },
  {
   "cell_type": "code",
   "execution_count": 7,
   "metadata": {},
   "outputs": [],
   "source": [
    "#Demonstrate Use of setitem(ob,pos,val),delitem(ob,pos) and getitem(ob,pos)"
   ]
  },
  {
   "cell_type": "code",
   "execution_count": 9,
   "metadata": {},
   "outputs": [
    {
     "output_type": "stream",
     "name": "stdout",
     "text": [
      "before: [3, 5, 7, 4, 2]\nafter setitem: [6, 5, 7, 4, 2]\n"
     ]
    }
   ],
   "source": [
    "import operator\n",
    "li = [3,5,7,4,2]\n",
    "print(\"before:\",li)\n",
    "operator.setitem(li,0,6)\n",
    "print(\"after setitem:\",li)\n"
   ]
  },
  {
   "cell_type": "code",
   "execution_count": 10,
   "metadata": {},
   "outputs": [
    {
     "output_type": "stream",
     "name": "stdout",
     "text": [
      "before: [3, 5, 7, 4, 2]\nafter delitem: [3, 7, 4, 2]\n"
     ]
    }
   ],
   "source": [
    "import operator\n",
    "li = [3,5,7,4,2]\n",
    "print(\"before:\",li)\n",
    "operator.delitem(li,1)\n",
    "print(\"after delitem:\",li)"
   ]
  },
  {
   "cell_type": "code",
   "execution_count": 12,
   "metadata": {},
   "outputs": [
    {
     "output_type": "stream",
     "name": "stdout",
     "text": [
      "before: [3, 5, 7, 4, 2]\nAfter get Item: 3\n"
     ]
    }
   ],
   "source": [
    "import operator\n",
    "li = [3,5,7,4,2]\n",
    "print(\"before:\",li)\n",
    "print(\"After get Item:\",operator.getitem(li,0))"
   ]
  },
  {
   "cell_type": "code",
   "execution_count": 14,
   "metadata": {},
   "outputs": [
    {
     "output_type": "stream",
     "name": "stdout",
     "text": [
      "Concatinating: RahulVishwakarma\n"
     ]
    }
   ],
   "source": [
    "#Demonstrate use of concat(obl1,obj2)\n",
    "import operator\n",
    "obj1=\"Rahul\"\n",
    "obj2=\"Vishwakarma\"\n",
    "print(\"Concatinating:\",operator.concat(obj1,obj2))\n"
   ]
  },
  {
   "cell_type": "code",
   "execution_count": 15,
   "metadata": {},
   "outputs": [],
   "source": [
    "#Demonstarate use of bitwise and(and_),bitwise or(or_) and bitwise(XOR) operator"
   ]
  },
  {
   "cell_type": "code",
   "execution_count": 17,
   "metadata": {},
   "outputs": [
    {
     "output_type": "stream",
     "name": "stdout",
     "text": [
      "Bitwise and: 0\nBitwise or: 1\nBitwise XOR: 1\n"
     ]
    }
   ],
   "source": [
    "import operator\n",
    "a=1\n",
    "b=0\n",
    "print(\"Bitwise and:\",operator.and_(a,b))\n",
    "print(\"Bitwise or:\",operator.or_(a,b))\n",
    "print(\"Bitwise XOR:\",operator.xor(a,b))"
   ]
  },
  {
   "cell_type": "code",
   "execution_count": null,
   "metadata": {},
   "outputs": [],
   "source": [
    "#Sets to be continued\n"
   ]
  }
 ]
}